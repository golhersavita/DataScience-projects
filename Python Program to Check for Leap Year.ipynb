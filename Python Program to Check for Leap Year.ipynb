{
 "cells": [
  {
   "cell_type": "markdown",
   "metadata": {},
   "source": [
    "### Python Program to Check Leap Year"
   ]
  },
  {
   "cell_type": "code",
   "execution_count": 10,
   "metadata": {},
   "outputs": [],
   "source": [
    "#Write Python program to check if year entered by user is a leap year or not."
   ]
  },
  {
   "cell_type": "raw",
   "metadata": {},
   "source": [
    "logic: \n",
    "A leap year is a year with an extra day February 29 which comes after 4 years except century year(years ending with 00).\n",
    "\n",
    "A leap year is exactly divisible by 4 except for century years. The century year is a leap year only if it is perfectly divisible by 400.\n",
    "\n",
    "1) Year is exactly divisible by 4,go to step 2\n",
    "2) Year is exactly divisible by 100, go to step 3\n",
    "3) Year is exactly divisible by 400, go to step 4\n",
    "4) Year is a leap year(has 366 days)\n",
    "5) Year is not a leap year(has 365 days)"
   ]
  },
  {
   "cell_type": "code",
   "execution_count": 3,
   "metadata": {},
   "outputs": [
    {
     "name": "stdout",
     "output_type": "stream",
     "text": [
      "Enter a year: 1900\n",
      "Year 1900 is not a leap year\n"
     ]
    }
   ],
   "source": [
    "year=int(input(\"Enter a year: \"))\n",
    "\n",
    "if year %4 ==0:\n",
    "    if year %100==0:\n",
    "        if year%400==0:\n",
    "            print(f\"Year {year} is a leap year\")\n",
    "        else:\n",
    "            print(f\"Year {year} is not a leap year\")\n",
    "    else:\n",
    "        print(f\"Year {year} is a leap year\")\n",
    "else:\n",
    "    print(f\"year {year} is not a leap year\")"
   ]
  },
  {
   "cell_type": "code",
   "execution_count": 5,
   "metadata": {},
   "outputs": [
    {
     "data": {
      "text/plain": [
       "0"
      ]
     },
     "execution_count": 5,
     "metadata": {},
     "output_type": "execute_result"
    }
   ],
   "source": [
    "2020%4 #leap year"
   ]
  },
  {
   "cell_type": "code",
   "execution_count": 6,
   "metadata": {},
   "outputs": [
    {
     "data": {
      "text/plain": [
       "0"
      ]
     },
     "execution_count": 6,
     "metadata": {},
     "output_type": "execute_result"
    }
   ],
   "source": [
    "2000%4"
   ]
  },
  {
   "cell_type": "code",
   "execution_count": 7,
   "metadata": {},
   "outputs": [
    {
     "data": {
      "text/plain": [
       "0"
      ]
     },
     "execution_count": 7,
     "metadata": {},
     "output_type": "execute_result"
    }
   ],
   "source": [
    "2000%400 # leap year"
   ]
  },
  {
   "cell_type": "code",
   "execution_count": 8,
   "metadata": {},
   "outputs": [
    {
     "data": {
      "text/plain": [
       "0"
      ]
     },
     "execution_count": 8,
     "metadata": {},
     "output_type": "execute_result"
    }
   ],
   "source": [
    "1900%4"
   ]
  },
  {
   "cell_type": "code",
   "execution_count": 9,
   "metadata": {},
   "outputs": [
    {
     "data": {
      "text/plain": [
       "300"
      ]
     },
     "execution_count": 9,
     "metadata": {},
     "output_type": "execute_result"
    }
   ],
   "source": [
    "1900%400 #Not leap year"
   ]
  },
  {
   "cell_type": "raw",
   "metadata": {},
   "source": [
    "#python program to check if year is leap year or not using function\n",
    "\n",
    "def function_name(arguments):\n",
    "    expression1,\n",
    "    expression2,...."
   ]
  },
  {
   "cell_type": "code",
   "execution_count": 9,
   "metadata": {},
   "outputs": [
    {
     "name": "stdout",
     "output_type": "stream",
     "text": [
      "year 2017 is not a leap year\n"
     ]
    }
   ],
   "source": [
    "def check_leapyear(year):\n",
    "    if year %4 ==0:\n",
    "        if year %100==0:\n",
    "                if year%400==0:\n",
    "                      print(f\"Year {year} is a leap year\")\n",
    "                else:\n",
    "                    print(f\"Year {year} is not a leap year\")\n",
    "        else:\n",
    "            print(f\"Year {year} is a leap year\")\n",
    "    else:\n",
    "        print(f\"year {year} is not a leap year\")\n",
    "check_leapyear(2017)\n",
    "    "
   ]
  },
  {
   "cell_type": "code",
   "execution_count": null,
   "metadata": {},
   "outputs": [],
   "source": []
  }
 ],
 "metadata": {
  "kernelspec": {
   "display_name": "Python 3 (ipykernel)",
   "language": "python",
   "name": "python3"
  },
  "language_info": {
   "codemirror_mode": {
    "name": "ipython",
    "version": 3
   },
   "file_extension": ".py",
   "mimetype": "text/x-python",
   "name": "python",
   "nbconvert_exporter": "python",
   "pygments_lexer": "ipython3",
   "version": "3.8.5"
  }
 },
 "nbformat": 4,
 "nbformat_minor": 4
}
