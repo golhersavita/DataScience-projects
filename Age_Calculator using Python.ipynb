{
 "cells": [
  {
   "cell_type": "markdown",
   "id": "4a78dfc2",
   "metadata": {},
   "source": [
    "### Python program to Calculate Your Exact Age"
   ]
  },
  {
   "cell_type": "code",
   "execution_count": 3,
   "id": "aef6334c",
   "metadata": {},
   "outputs": [
    {
     "name": "stdout",
     "output_type": "stream",
     "text": [
      "Enter your day of birth: 30\n",
      "Enter your month of birth: 3\n",
      "Enter your year of birth: 1993\n",
      "Your exact age is : 28 years, 7 months, -1 days\n"
     ]
    }
   ],
   "source": [
    "from datetime import datetime\n",
    "from datetime import date\n",
    "\n",
    "birth_day=int(input(\"Enter your day of birth: \"))\n",
    "birth_month=int(input(\"Enter your month of birth: \"))\n",
    "birth_year=int(input(\"Enter your year of birth: \"))\n",
    "\n",
    "current_day=date.today().day\n",
    "current_month=date.today().month\n",
    "current_year=date.today().year\n",
    "\n",
    "age_day=current_day-birth_day\n",
    "age_month=current_month-birth_month\n",
    "age_year=current_year-birth_year\n",
    "\n",
    "print(f\"Your exact age is : {age_year} years, {age_month} months, {age_day} days\")"
   ]
  },
  {
   "cell_type": "code",
   "execution_count": 5,
   "id": "9ae13096",
   "metadata": {},
   "outputs": [
    {
     "data": {
      "text/plain": [
       "datetime.date(2021, 10, 29)"
      ]
     },
     "execution_count": 5,
     "metadata": {},
     "output_type": "execute_result"
    }
   ],
   "source": [
    "date.today()"
   ]
  },
  {
   "cell_type": "markdown",
   "id": "8ac41928",
   "metadata": {},
   "source": [
    "### Calculate your Age using python functions"
   ]
  },
  {
   "cell_type": "code",
   "execution_count": 11,
   "id": "1eedc8c8",
   "metadata": {},
   "outputs": [
    {
     "name": "stdout",
     "output_type": "stream",
     "text": [
      "Your exact age is : 28 years\n"
     ]
    }
   ],
   "source": [
    "from datetime import datetime\n",
    "from datetime import date\n",
    "\n",
    "def calculate_age(Birthdate):\n",
    "    current_date=date.today()\n",
    "    Age=current_date.year-Birthdate.year\n",
    "    return Age\n",
    "\n",
    "Birthdate=date(1993,3,30)\n",
    "\n",
    "print(f\"Your exact age is : {calculate_age(Birthdate)} years\")"
   ]
  },
  {
   "cell_type": "code",
   "execution_count": null,
   "id": "c0abe51c",
   "metadata": {},
   "outputs": [],
   "source": []
  },
  {
   "cell_type": "code",
   "execution_count": null,
   "id": "4a3e7e99",
   "metadata": {},
   "outputs": [],
   "source": []
  },
  {
   "cell_type": "code",
   "execution_count": null,
   "id": "974f4a22",
   "metadata": {},
   "outputs": [],
   "source": []
  },
  {
   "cell_type": "code",
   "execution_count": null,
   "id": "10b7129b",
   "metadata": {},
   "outputs": [],
   "source": []
  }
 ],
 "metadata": {
  "kernelspec": {
   "display_name": "Python 3 (ipykernel)",
   "language": "python",
   "name": "python3"
  },
  "language_info": {
   "codemirror_mode": {
    "name": "ipython",
    "version": 3
   },
   "file_extension": ".py",
   "mimetype": "text/x-python",
   "name": "python",
   "nbconvert_exporter": "python",
   "pygments_lexer": "ipython3",
   "version": "3.8.5"
  }
 },
 "nbformat": 4,
 "nbformat_minor": 5
}
