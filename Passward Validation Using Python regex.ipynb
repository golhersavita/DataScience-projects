{
 "cells": [
  {
   "cell_type": "markdown",
   "id": "28a6cdb4",
   "metadata": {},
   "source": [
    "# Python program to create protected password \n",
    "\n",
    "# check entered Passward is valid or Not"
   ]
  },
  {
   "cell_type": "markdown",
   "id": "bdac6e73",
   "metadata": {},
   "source": [
    "### conditions to create passawrd\n",
    "\n",
    "* Must be min 8 character long\n",
    "* Must contain atleast one uppercase letter [A-Z]\n",
    "* Must contain atleast one lowercase letter [a-z]\n",
    "* Must contain atleast one digit  [0-9]\n",
    "* Should not contain white space []\n",
    "* Must contain atleast one special character [!@#%&*_+=$]"
   ]
  },
  {
   "cell_type": "code",
   "execution_count": 7,
   "id": "fd1942dd",
   "metadata": {},
   "outputs": [
    {
     "name": "stdout",
     "output_type": "stream",
     "text": [
      "enter the passward: ········\n",
      "Hy25689R#$%\n",
      " Hy25689R#$% is correct\n"
     ]
    }
   ],
   "source": [
    "import re\n",
    "from getpass import getpass\n",
    "passward=getpass(\"enter the passward: \")\n",
    "print(passward)\n",
    "\n",
    "if (len(passward)<8):\n",
    "    print(\"passward must be 8 character long\")\n",
    "\n",
    "if not re.search('[A-Z]',passward):\n",
    "    print(\"Not valid!, Passward must contain atleast one capital letter\")\n",
    "    \n",
    "if not re.search('[a-z]',passward):\n",
    "    print(\"Not valid!, Passward must contain atleast one lowercase letter\")\n",
    "    \n",
    "if not re.search('[0-9]',passward):\n",
    "    print(\"Not valid!, Passward must contain atleast one digit\")\n",
    "    \n",
    "if re.search('\\s',passward):\n",
    "    print(\"Not valid!, Passward should not contain white space\")\n",
    "    \n",
    "if not re.search('[!@#%&*_+=$]',passward):\n",
    "    print(\"Not valid!, Passward must contain atleast one special character\")\n",
    "\n",
    "else:\n",
    "    print(f\" {passward} is correct\")\n"
   ]
  },
  {
   "cell_type": "code",
   "execution_count": null,
   "id": "15290c52",
   "metadata": {},
   "outputs": [],
   "source": []
  },
  {
   "cell_type": "code",
   "execution_count": null,
   "id": "8523872a",
   "metadata": {},
   "outputs": [],
   "source": []
  },
  {
   "cell_type": "code",
   "execution_count": null,
   "id": "0e90c49c",
   "metadata": {},
   "outputs": [],
   "source": []
  },
  {
   "cell_type": "code",
   "execution_count": null,
   "id": "0d28788d",
   "metadata": {},
   "outputs": [],
   "source": []
  },
  {
   "cell_type": "code",
   "execution_count": null,
   "id": "ec124d8b",
   "metadata": {},
   "outputs": [],
   "source": []
  },
  {
   "cell_type": "code",
   "execution_count": null,
   "id": "7c82a746",
   "metadata": {},
   "outputs": [],
   "source": []
  },
  {
   "cell_type": "code",
   "execution_count": null,
   "id": "e0933afc",
   "metadata": {},
   "outputs": [],
   "source": [
    "# re.search() method takes a regular expression pattern and a string and \n",
    "# searches for that pattern within the string. \n",
    "# If the search is successful, search() returns a match object or None otherwise."
   ]
  },
  {
   "cell_type": "code",
   "execution_count": null,
   "id": "5674bc30",
   "metadata": {},
   "outputs": [],
   "source": []
  }
 ],
 "metadata": {
  "kernelspec": {
   "display_name": "Python 3 (ipykernel)",
   "language": "python",
   "name": "python3"
  },
  "language_info": {
   "codemirror_mode": {
    "name": "ipython",
    "version": 3
   },
   "file_extension": ".py",
   "mimetype": "text/x-python",
   "name": "python",
   "nbconvert_exporter": "python",
   "pygments_lexer": "ipython3",
   "version": "3.8.5"
  }
 },
 "nbformat": 4,
 "nbformat_minor": 5
}
