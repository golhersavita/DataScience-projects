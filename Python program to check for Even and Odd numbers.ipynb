{
 "cells": [
  {
   "cell_type": "markdown",
   "id": "baf31950",
   "metadata": {},
   "source": [
    "### Python program to check for Even and Odd numbers"
   ]
  },
  {
   "cell_type": "markdown",
   "id": "9854166d",
   "metadata": {},
   "source": [
    "Que- Write a program that reads an integer from the user. Then your program should display a message indicating whether the integer is even or odd."
   ]
  },
  {
   "cell_type": "code",
   "execution_count": 3,
   "id": "5da26dcd",
   "metadata": {},
   "outputs": [
    {
     "name": "stdout",
     "output_type": "stream",
     "text": [
      "Enter an integer: 27\n",
      "The given no 27 is Odd\n"
     ]
    }
   ],
   "source": [
    "num=int(input(\"Enter an integer: \"))\n",
    "\n",
    "if num % 2 ==0:\n",
    "    print(f\"The given no {num} is Even\")\n",
    "else:\n",
    "    print(f\"The given no {num} is Odd\")"
   ]
  },
  {
   "cell_type": "code",
   "execution_count": null,
   "id": "c2dea9de",
   "metadata": {},
   "outputs": [],
   "source": [
    "# que- write a pythom program to find that the given integeris Even or Odd \n",
    "# without using % operator."
   ]
  },
  {
   "cell_type": "code",
   "execution_count": 7,
   "id": "af5e32db",
   "metadata": {},
   "outputs": [
    {
     "name": "stdout",
     "output_type": "stream",
     "text": [
      "Enter any no: 51\n",
      "The given no 51 is Odd\n"
     ]
    }
   ],
   "source": [
    "Number=int(input('Enter any no: '))\n",
    "\n",
    "Quotient=int(Number/2)\n",
    "\n",
    "if (Quotient*2)==Number:\n",
    "    print(f\"The given no {Number} is Even\")\n",
    "else:\n",
    "    print(f\"The given no {Number} is Odd\")"
   ]
  },
  {
   "cell_type": "code",
   "execution_count": null,
   "id": "5f2c4bc4",
   "metadata": {},
   "outputs": [],
   "source": []
  },
  {
   "cell_type": "code",
   "execution_count": null,
   "id": "7c711334",
   "metadata": {},
   "outputs": [],
   "source": []
  },
  {
   "cell_type": "code",
   "execution_count": null,
   "id": "34859a9d",
   "metadata": {},
   "outputs": [],
   "source": []
  },
  {
   "cell_type": "code",
   "execution_count": null,
   "id": "81587114",
   "metadata": {},
   "outputs": [],
   "source": []
  },
  {
   "cell_type": "code",
   "execution_count": null,
   "id": "c27d1c73",
   "metadata": {},
   "outputs": [],
   "source": []
  },
  {
   "cell_type": "code",
   "execution_count": null,
   "id": "c39966a3",
   "metadata": {},
   "outputs": [],
   "source": []
  },
  {
   "cell_type": "code",
   "execution_count": null,
   "id": "c6cc8c0d",
   "metadata": {},
   "outputs": [],
   "source": []
  },
  {
   "cell_type": "code",
   "execution_count": null,
   "id": "cdb1af73",
   "metadata": {},
   "outputs": [],
   "source": []
  },
  {
   "cell_type": "code",
   "execution_count": null,
   "id": "7581512b",
   "metadata": {},
   "outputs": [],
   "source": []
  },
  {
   "cell_type": "code",
   "execution_count": null,
   "id": "9ba2c4f0",
   "metadata": {},
   "outputs": [],
   "source": []
  },
  {
   "cell_type": "code",
   "execution_count": null,
   "id": "b400b004",
   "metadata": {},
   "outputs": [],
   "source": []
  },
  {
   "cell_type": "code",
   "execution_count": null,
   "id": "be1cd2ac",
   "metadata": {},
   "outputs": [],
   "source": []
  },
  {
   "cell_type": "code",
   "execution_count": null,
   "id": "e1c0d7e6",
   "metadata": {},
   "outputs": [],
   "source": []
  },
  {
   "cell_type": "code",
   "execution_count": null,
   "id": "0dc4ddcc",
   "metadata": {},
   "outputs": [],
   "source": []
  },
  {
   "cell_type": "code",
   "execution_count": null,
   "id": "782dfffd",
   "metadata": {},
   "outputs": [],
   "source": []
  },
  {
   "cell_type": "code",
   "execution_count": null,
   "id": "105bed4d",
   "metadata": {},
   "outputs": [],
   "source": [
    "que- write a pythom program to find that the given integer is Even or Odd without using % operator."
   ]
  },
  {
   "cell_type": "code",
   "execution_count": 2,
   "id": "af45eaba",
   "metadata": {},
   "outputs": [
    {
     "name": "stdout",
     "output_type": "stream",
     "text": [
      "Enter any number: 27\n",
      "Given no 27 is Odd\n"
     ]
    }
   ],
   "source": [
    "Number=int(input(\"Enter any number: \"))\n",
    "quotient=int(Number/2)\n",
    "\n",
    "if (quotient*2==Number):\n",
    "    print(f\"Given no {Number} is Even\")\n",
    "else:\n",
    "    print(f\"Given no {Number} is Odd\")"
   ]
  },
  {
   "cell_type": "code",
   "execution_count": 10,
   "id": "6cfb743f",
   "metadata": {},
   "outputs": [
    {
     "name": "stdout",
     "output_type": "stream",
     "text": [
      "Enter an Integer: 27\n",
      "Given no 27 is Odd\n"
     ]
    }
   ],
   "source": [
    "num = int(input(\"Enter an Integer: \"))\n",
    "\n",
    "if num % 2==0 :\n",
    "    print(f\"Given no {num} is Even\")\n",
    "else:\n",
    "    print(f\"Given no {num} is Odd\")"
   ]
  },
  {
   "cell_type": "code",
   "execution_count": null,
   "id": "8e566bb9",
   "metadata": {},
   "outputs": [],
   "source": []
  },
  {
   "cell_type": "raw",
   "id": "9b8bdfa6",
   "metadata": {},
   "source": [
    "Solution to Excercise - 3"
   ]
  },
  {
   "cell_type": "code",
   "execution_count": 1,
   "id": "37fbd07d",
   "metadata": {},
   "outputs": [
    {
     "name": "stdout",
     "output_type": "stream",
     "text": [
      "Enter a letter of the alphabetr\n",
      "its a consonant\n"
     ]
    }
   ],
   "source": [
    "letter = input(\"Enter a letter of the alphabet\")\n",
    "\n",
    "### Classify the letter and report the result\n",
    "if letter == 'a' or letter =='e' or\\\n",
    "letter == 'i' or letter == 'o'or letter == 'u':\n",
    "    print('Its a Vowel')\n",
    "elif letter == 'y':\n",
    "    print(\"Sometimes its a vowel, sometime its a consonant\")\n",
    "else:\n",
    "    print(\"its a consonant\")"
   ]
  },
  {
   "cell_type": "raw",
   "id": "5df8e9a6",
   "metadata": {},
   "source": [
    "Solution to Excercise - 4"
   ]
  },
  {
   "cell_type": "code",
   "execution_count": null,
   "id": "769543e6",
   "metadata": {},
   "outputs": [],
   "source": [
    "### Reading the number of sides from the user\n",
    "nsides = int(input(\"Enter the number of Sides\"))\n",
    "name = \"\"\n",
    "if nsides == 3:\n",
    "    name = \"Triangle\"\n",
    "elif nsides= 4:\n",
    "    name = \"quadrilateral\"\n",
    "elif nsides= 5:\n",
    "    name = \"pentagon\"\n",
    "elif nsides= 6:\n",
    "    name = \"hexagon\"\n",
    "elif nsides= 7:\n",
    "    name = \"heptagon\"\n",
    "elif nsides= 8:\n",
    "    name = \"octagon\"\n",
    "elif nsides= 9:\n",
    "    name = \"nonagon\"\n",
    "elif nsides= 10:\n",
    "    name = \"decagon\"\n",
    "    \n",
    "### Display Error message or name of the polygon\n",
    "if name == \"\":\n",
    "    print(\"The numer of sides is not supported\")\n",
    "else:\n",
    "    print(\"The name is\",name)"
   ]
  },
  {
   "cell_type": "raw",
   "id": "98a101be",
   "metadata": {},
   "source": [
    "Solution to Excercise - 5"
   ]
  },
  {
   "cell_type": "code",
   "execution_count": null,
   "id": "912c1b6c",
   "metadata": {},
   "outputs": [],
   "source": [
    "### Reading the month from the user\n",
    "month  = input(\"Enter the name of the month: \")\n",
    "\n",
    "### Compute the numer of days in a month\n",
    "days = 31\n",
    "\n",
    "if month == \"April\" or month == \"June\" or \\\n",
    "month ==\"September\" or month == \"November\":\n",
    "    days = 30\n",
    "elif month == \"February\":\n",
    "    days = \"28 or 29\"\n",
    "\n",
    "## Display the result\n",
    "print(month,\"has\", days, \"days in it\")"
   ]
  },
  {
   "cell_type": "raw",
   "id": "b77225fe",
   "metadata": {},
   "source": [
    "Solution to Excercise - 6"
   ]
  },
  {
   "cell_type": "raw",
   "id": "ab569633",
   "metadata": {},
   "source": [
    "Try it on your own  - its very simple"
   ]
  },
  {
   "cell_type": "raw",
   "id": "3b89d988",
   "metadata": {},
   "source": [
    "Solution to Excercise  - 7"
   ]
  },
  {
   "cell_type": "code",
   "execution_count": 3,
   "id": "c2b22d87",
   "metadata": {},
   "outputs": [],
   "source": [
    "### Converting the name of the Note to frequency\n",
    "C4_FREQ = 261.63\n",
    "D4_FREQ = 293.66\n",
    "E4_FREQ = 329.63\n",
    "F4_FREQ = 349.23\n",
    "G4_FREQ = 392.00\n",
    "A4_FREQ = 440.00\n",
    "B4_FREQ = 493.88\n",
    "\n",
    "\n",
    "#### Read the note name from the user\n",
    "name = input(\"Enter two character note name, such as C4: \")\n",
    "\n",
    "### Store the note and its octave in seperate variables\n",
    "note = name[0]\n",
    "octave = int(name[1])\n",
    "\n",
    "\n",
    "#### Get the frequency of the note, assuming it is in the fourth octvae\n",
    "if note == 'C':\n",
    "    freq = C4_FREQ\n",
    "elif note == 'D':\n",
    "    freq = D4_FREQ\n",
    "elif note == 'E':\n",
    "    freq = E4_FREQ\n",
    "elif note == 'F':\n",
    "    freq = F4_FREQ\n",
    "elif note == 'G':\n",
    "    freq = G4_FREQ\n",
    "elif note == 'A':\n",
    "    freq = A4_FREQ\n",
    "elif note == 'B':\n",
    "    freq = B4_FREQ\n",
    "\n",
    "### Adjust the frequency to bring it into current octave\n",
    "freq = freq/2 **(4- octave)\n",
    "\n",
    "### Display the result\n",
    "print(\"The frequnecy of\",name,\"is\",freq)"
   ]
  },
  {
   "cell_type": "raw",
   "id": "4a71556e",
   "metadata": {},
   "source": [
    "Solution to Excercise  - 8"
   ]
  },
  {
   "cell_type": "raw",
   "id": "3e66c018",
   "metadata": {},
   "source": [
    "Try it on your own  - its very simple (Just reverse the process)"
   ]
  },
  {
   "cell_type": "raw",
   "id": "5bc6a9de",
   "metadata": {},
   "source": [
    "Solution to Excercise  - 9"
   ]
  },
  {
   "cell_type": "raw",
   "id": "8064fd97",
   "metadata": {},
   "source": [
    "Try it on your own  - its very simple"
   ]
  }
 ],
 "metadata": {
  "kernelspec": {
   "display_name": "Python 3 (ipykernel)",
   "language": "python",
   "name": "python3"
  },
  "language_info": {
   "codemirror_mode": {
    "name": "ipython",
    "version": 3
   },
   "file_extension": ".py",
   "mimetype": "text/x-python",
   "name": "python",
   "nbconvert_exporter": "python",
   "pygments_lexer": "ipython3",
   "version": "3.8.5"
  }
 },
 "nbformat": 4,
 "nbformat_minor": 5
}
