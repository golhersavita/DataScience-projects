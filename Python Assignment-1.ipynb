{
 "cells": [
  {
   "cell_type": "markdown",
   "metadata": {},
   "source": [
    "# Python Assignment-1"
   ]
  },
  {
   "cell_type": "markdown",
   "metadata": {},
   "source": [
    "### Que-1"
   ]
  },
  {
   "cell_type": "code",
   "execution_count": 2,
   "metadata": {},
   "outputs": [
    {
     "name": "stdout",
     "output_type": "stream",
     "text": [
      "Hello, Good Morning, Hope you are well and doing good!!!!, Have a nice day.\n"
     ]
    }
   ],
   "source": [
    "msg='Hello, Good Morning, Hope you are well and doing good!!!!, Have a nice day.'\n",
    "print(msg)"
   ]
  },
  {
   "cell_type": "markdown",
   "metadata": {},
   "source": [
    "### Que-2"
   ]
  },
  {
   "cell_type": "code",
   "execution_count": 4,
   "metadata": {},
   "outputs": [
    {
     "name": "stdout",
     "output_type": "stream",
     "text": [
      "Hey, Good morning, how are you?\n",
      "I am fine and doing well, good to hear you after long time, What about you?\n"
     ]
    }
   ],
   "source": [
    "txt='Hey, Good morning, how are you?'\n",
    "print(txt)\n",
    "txt='I am fine and doing well, good to hear you after long time, What about you?'\n",
    "print(txt)"
   ]
  },
  {
   "cell_type": "markdown",
   "metadata": {},
   "source": [
    "### Que-3"
   ]
  },
  {
   "cell_type": "code",
   "execution_count": 6,
   "metadata": {},
   "outputs": [
    {
     "name": "stdout",
     "output_type": "stream",
     "text": [
      "Hello Saurav , I am planning the trip to Goa, would it be possible for you to come?\n"
     ]
    }
   ],
   "source": [
    "name='Saurav'\n",
    "print('Hello', name,',', 'I am planning the trip to Goa, would it be possible for you to come?' )"
   ]
  },
  {
   "cell_type": "markdown",
   "metadata": {},
   "source": [
    "### Que-4"
   ]
  },
  {
   "cell_type": "code",
   "execution_count": 15,
   "metadata": {},
   "outputs": [
    {
     "name": "stdout",
     "output_type": "stream",
     "text": [
      "Warren Buffett once said, \" Someone is sitting in shade today because someone planted a tree a long time ago. \"\n"
     ]
    }
   ],
   "source": [
    "quote=\"Someone is sitting in shade today because someone planted a tree a long time ago.\"\n",
    "print('Warren Buffett once said,','\"',quote,'\"')\n"
   ]
  },
  {
   "cell_type": "markdown",
   "metadata": {},
   "source": [
    "### Que-5"
   ]
  },
  {
   "cell_type": "code",
   "execution_count": 21,
   "metadata": {},
   "outputs": [
    {
     "name": "stdout",
     "output_type": "stream",
     "text": [
      "Warren Buffett once said, \" ...Not doing what we love in the name of greed is very poor management of our lives. \"\n"
     ]
    }
   ],
   "source": [
    "famous_person= 'Warren Buffett'\n",
    "message= '...Not doing what we love in the name of greed is very poor management of our lives.'\n",
    "print(famous_person, 'once said,', '\"', message, '\"')"
   ]
  },
  {
   "cell_type": "markdown",
   "metadata": {},
   "source": [
    "### Que-6"
   ]
  },
  {
   "cell_type": "code",
   "execution_count": 19,
   "metadata": {},
   "outputs": [
    {
     "name": "stdout",
     "output_type": "stream",
     "text": [
      "8\n",
      "8\n",
      "8\n",
      "8\n"
     ]
    }
   ],
   "source": [
    "print(4 + 4)\n",
    "print(9 - 1)\n",
    "print(2 * 4)\n",
    "print(int(24 / 3))"
   ]
  },
  {
   "cell_type": "markdown",
   "metadata": {},
   "source": [
    "### Que-7"
   ]
  },
  {
   "cell_type": "code",
   "execution_count": 22,
   "metadata": {},
   "outputs": [
    {
     "name": "stdout",
     "output_type": "stream",
     "text": [
      "My favourite number is 30 .\n"
     ]
    }
   ],
   "source": [
    "fav_num=30\n",
    "print('My favourite number is', str(fav_num),'.')\n"
   ]
  },
  {
   "cell_type": "markdown",
   "metadata": {},
   "source": [
    "### Que-8"
   ]
  },
  {
   "cell_type": "code",
   "execution_count": 23,
   "metadata": {},
   "outputs": [
    {
     "name": "stdout",
     "output_type": "stream",
     "text": [
      "Warren Buffett once said, \" ...Not doing what we love in the name of greed is very poor management of our lives. \"\n"
     ]
    }
   ],
   "source": [
    "# savita -18th may - message by famous person Warren Buffett.\n",
    "\n",
    "famous_person= 'Warren Buffett'\n",
    "message= '...Not doing what we love in the name of greed is very poor management of our lives.'\n",
    "print(famous_person, 'once said,', '\"', message, '\"')"
   ]
  },
  {
   "cell_type": "markdown",
   "metadata": {},
   "source": [
    "### Que-9"
   ]
  },
  {
   "cell_type": "code",
   "execution_count": 25,
   "metadata": {},
   "outputs": [
    {
     "name": "stdout",
     "output_type": "stream",
     "text": [
      "8\n",
      "8\n",
      "8\n",
      "8\n"
     ]
    }
   ],
   "source": [
    "# savita- 18th may- Addition,subtraction, multiplication and devision of number that result the number 8.\n",
    "\n",
    "print(4 + 4)\n",
    "print(9 - 1)\n",
    "print(2 * 4)\n",
    "print(int(24 / 3))"
   ]
  },
  {
   "cell_type": "markdown",
   "metadata": {},
   "source": [
    "### Que-10"
   ]
  },
  {
   "cell_type": "code",
   "execution_count": 27,
   "metadata": {},
   "outputs": [
    {
     "name": "stdout",
     "output_type": "stream",
     "text": [
      "Monika\n",
      "Vishakha\n",
      "Jyoti\n",
      "Sonu\n",
      "Hitanshu\n"
     ]
    }
   ],
   "source": [
    "names=['Monika', 'Vishakha', 'Jyoti', 'Sonu', 'Hitanshu']\n",
    "print(names[0])\n",
    "print(names[1])\n",
    "print(names[2])\n",
    "print(names[3])\n",
    "print(names[4])"
   ]
  },
  {
   "cell_type": "markdown",
   "metadata": {},
   "source": [
    "### Que-11"
   ]
  },
  {
   "cell_type": "code",
   "execution_count": 29,
   "metadata": {},
   "outputs": [
    {
     "name": "stdout",
     "output_type": "stream",
     "text": [
      "Monika , Today waether is too cool, Let's have some Tea.\n",
      "Vishakha , Today waether is too cool, Let's have some Tea.\n",
      "Jyoti , Today waether is too cool, Let's have some Tea.\n",
      "Sonu , Today waether is too cool, Let's have some Tea.\n",
      "Hitanshu , Today waether is too cool, Let's have some Tea.\n"
     ]
    }
   ],
   "source": [
    "names=['Monika', 'Vishakha', 'Jyoti', 'Sonu', 'Hitanshu']\n",
    "print(names[0], ',', \"Today waether is too cool, Let's have some Tea.\")\n",
    "print(names[1], ',', \"Today waether is too cool, Let's have some Tea.\")\n",
    "print(names[2], ',', \"Today waether is too cool, Let's have some Tea.\")\n",
    "print(names[3], ',', \"Today waether is too cool, Let's have some Tea.\")\n",
    "print(names[4], ',', \"Today waether is too cool, Let's have some Tea.\")"
   ]
  },
  {
   "cell_type": "code",
   "execution_count": null,
   "metadata": {},
   "outputs": [],
   "source": []
  },
  {
   "cell_type": "code",
   "execution_count": 31,
   "metadata": {},
   "outputs": [
    {
     "name": "stdout",
     "output_type": "stream",
     "text": [
      "I own a Car Toyta . Sonu and me is planning to explore Goa on 18 Dec this year as its our marriage anneversery on 18th Dec, we are going to spend 3 days there in Goa.\n"
     ]
    }
   ],
   "source": [
    "li=['Car','Toyta','18','Goa','Dec','Sonu','3']\n",
    "print('I own a',li[0], li[1], '.', li[5],'and me is planning to explore',li[3], 'on',li[2],li[4], \n",
    "      'this year as its our marriage anneversery on 18th Dec, we are going to spend',li[6], \n",
    "      'days there in Goa.')\n"
   ]
  },
  {
   "cell_type": "code",
   "execution_count": null,
   "metadata": {},
   "outputs": [],
   "source": []
  },
  {
   "cell_type": "code",
   "execution_count": null,
   "metadata": {},
   "outputs": [],
   "source": []
  }
 ],
 "metadata": {
  "kernelspec": {
   "display_name": "Python 3",
   "language": "python",
   "name": "python3"
  },
  "language_info": {
   "codemirror_mode": {
    "name": "ipython",
    "version": 3
   },
   "file_extension": ".py",
   "mimetype": "text/x-python",
   "name": "python",
   "nbconvert_exporter": "python",
   "pygments_lexer": "ipython3",
   "version": "3.8.5"
  }
 },
 "nbformat": 4,
 "nbformat_minor": 4
}
