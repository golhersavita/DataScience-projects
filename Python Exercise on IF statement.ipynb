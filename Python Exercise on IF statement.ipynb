{
 "cells": [
  {
   "cell_type": "markdown",
   "metadata": {},
   "source": [
    "### Que -1\n"
   ]
  },
  {
   "cell_type": "code",
   "execution_count": 2,
   "metadata": {},
   "outputs": [
    {
     "name": "stdout",
     "output_type": "stream",
     "text": [
      "Enter any number : 55\n",
      "Integer is Odd\n"
     ]
    }
   ],
   "source": [
    "num=int(input('Enter any number : '))\n",
    "if num%2 ==0:\n",
    "    print('Integer is Even')\n",
    "else:\n",
    "    print('Integer is Odd')"
   ]
  },
  {
   "cell_type": "markdown",
   "metadata": {},
   "source": [
    "### Que-3"
   ]
  },
  {
   "cell_type": "code",
   "execution_count": 2,
   "metadata": {},
   "outputs": [
    {
     "name": "stdout",
     "output_type": "stream",
     "text": [
      "Enter a Alphabet letter : S\n",
      "Entered letter is a consonant\n"
     ]
    }
   ],
   "source": [
    "l=input('Enter a Alphabet letter : ')\n",
    "letter=l.lower()\n",
    "V= {'a', 'e', 'i', 'o', 'u'}\n",
    "\n",
    "if letter in V:\n",
    "    print('Entered letter is a vowel')\n",
    "elif letter=='y':\n",
    "    print('Sometimes y is a vowel, and sometimes y is a consonant')\n",
    "else:\n",
    "    print('Entered letter is a consonant')"
   ]
  },
  {
   "cell_type": "markdown",
   "metadata": {},
   "source": [
    "### Que-4"
   ]
  },
  {
   "cell_type": "code",
   "execution_count": 4,
   "metadata": {},
   "outputs": [
    {
     "name": "stdout",
     "output_type": "stream",
     "text": [
      "Enter number of sides of any shape : 5\n",
      "The shape is \"Pentagon\"\n"
     ]
    }
   ],
   "source": [
    "sides=int(input('Enter number of sides of any shape : '))\n",
    "\n",
    "if sides==3:\n",
    "    print('The shape is \"Triange\"')\n",
    "elif sides==4:\n",
    "    print('The shape is \"Square\"')\n",
    "elif sides==5:\n",
    "    print('The shape is \"Pentagon\"')\n",
    "elif sides==6:\n",
    "    print('The shape is \"Hexagon\"')\n",
    "elif sides==7:\n",
    "    print('The shape is \"Heptagon\"')\n",
    "elif sides==8:\n",
    "    print('The shape is \"Octagon\"')\n",
    "elif sides==9:\n",
    "    print('The shape is \"Nonagon\"')\n",
    "elif sides==10:\n",
    "    print('The shape is \"Decagon\"')\n",
    "else:\n",
    "    print('This no. of side is Unsupported by program')"
   ]
  },
  {
   "cell_type": "markdown",
   "metadata": {},
   "source": [
    "### Que-5"
   ]
  },
  {
   "cell_type": "code",
   "execution_count": 11,
   "metadata": {},
   "outputs": [
    {
     "name": "stdout",
     "output_type": "stream",
     "text": [
      "Enter name of a month : MARCH\n",
      "\"31 days\"\n"
     ]
    }
   ],
   "source": [
    "mon=input('Enter name of a month : ')\n",
    "month=mon.title()\n",
    "\n",
    "if month == 'January':\n",
    "    print('\"31 days\"')\n",
    "elif month == 'February':\n",
    "    print('\"28 or 29 days\"')\n",
    "elif month == 'March':\n",
    "    print('\"31 days\"')\n",
    "elif month == 'April':\n",
    "    print('\"30 days\"')\n",
    "elif month == 'May':\n",
    "    print('\"31 days\"')\n",
    "elif month == 'June':\n",
    "    print('\"30 days\"')\n",
    "elif month == 'July':\n",
    "    print('\"31 days\"')\n",
    "elif month == 'August':\n",
    "    print('\"31 days\"')\n",
    "elif month == 'September':\n",
    "    print('\"30 days\"')\n",
    "elif month == 'October':\n",
    "    print('\"31 days\"')\n",
    "elif month == 'November':\n",
    "    print('\"30 days\"')\n",
    "elif month == 'December':\n",
    "    print('\"31 days\"')\n",
    "else:\n",
    "    print('Enter valid name of a month')"
   ]
  },
  {
   "cell_type": "markdown",
   "metadata": {},
   "source": [
    "### Que-6"
   ]
  },
  {
   "cell_type": "code",
   "execution_count": 16,
   "metadata": {},
   "outputs": [
    {
     "name": "stdout",
     "output_type": "stream",
     "text": [
      "Enter Your sound level in decibels : 52\n",
      "The noise is between \"Quite room\" & \"Alarm clock\"\n"
     ]
    }
   ],
   "source": [
    "dB=int(input('Enter Your sound level in decibels : '))\n",
    "\n",
    "if dB==40:\n",
    "    print('Quiet room')\n",
    "elif dB ==70:\n",
    "    print('Alarm clock')\n",
    "elif dB ==106:\n",
    "    print('Gas lawnmower')\n",
    "elif dB ==130:\n",
    "    print('Jackhammer')\n",
    "elif 0< dB <40:\n",
    "    print('Quietest noise')\n",
    "elif 40< dB <70:\n",
    "    print('The noise is between \"Quite room\" & \"Alarm clock\"')\n",
    "elif 70< dB <106:\n",
    "    print('The noise is between \"Alarm clock\" & \"Gas lawnmower\"')\n",
    "elif 106< dB <130:\n",
    "    print('The noise is between \"Gas lawnmower\" & \"Jackhammer\"')\n",
    "elif dB>130:\n",
    "    print('Loudest noise')\n",
    "else:\n",
    "    print('Enter valid sound level')\n",
    "\n",
    "    "
   ]
  },
  {
   "cell_type": "markdown",
   "metadata": {},
   "source": [
    "### Que-7"
   ]
  },
  {
   "cell_type": "code",
   "execution_count": 6,
   "metadata": {},
   "outputs": [
    {
     "name": "stdout",
     "output_type": "stream",
     "text": [
      "Enter two character name of note, such as C4 : A4\n",
      "The frequency of A4 is 22.0\n"
     ]
    }
   ],
   "source": [
    "name=input('Enter two character name of note, such as C4 : ')\n",
    "note=name[0]\n",
    "octave=int(name[1])\n",
    "\n",
    "\n",
    "if note== 'C':\n",
    "    freq=261.63\n",
    "elif note== 'D':\n",
    "    freq=293.66\n",
    "elif note== 'E':\n",
    "    freq=329.63\n",
    "elif note== 'F':\n",
    "    freq=349.23\n",
    "elif note== 'G':\n",
    "    freq=392.00\n",
    "elif note== 'A':\n",
    "    freq=440.00\n",
    "elif note== 'B':\n",
    "    freq=493.88\n",
    "    \n",
    "freq = freq/(24 - octave)\n",
    "\n",
    "print(f\"The frequency of {name} is {freq}\")\n",
    "\n",
    "\n",
    "\n"
   ]
  },
  {
   "cell_type": "markdown",
   "metadata": {},
   "source": [
    "### Que-8"
   ]
  },
  {
   "cell_type": "code",
   "execution_count": 7,
   "metadata": {},
   "outputs": [
    {
     "name": "stdout",
     "output_type": "stream",
     "text": [
      "Enter a frequency : 300\n",
      "The note of 300.0 is A\n"
     ]
    }
   ],
   "source": [
    "freq=float(input('Enter a frequency : '))\n",
    "limit=1\n",
    "\n",
    "if 261.63-limit<=freq<=261.63+limit:\n",
    "    note='C4'\n",
    "\n",
    "elif 293.66-limit<=freq<=293.66+limit:\n",
    "    note='D4'\n",
    "\n",
    "elif 329.63-limit<=freq<=329.63+limit:\n",
    "    note='E4'\n",
    "\n",
    "elif 349.23-limit<=freq<=349.23+limit:\n",
    "    note='F4'\n",
    "\n",
    "elif 392.00-limit<=freq<=392.00+limit:\n",
    "    note='G4'\n",
    "\n",
    "elif 440.00-limit<=freq<=440.00+limit:\n",
    "    note='A4'\n",
    "\n",
    "elif 493.88-limit<=freq<=493.88+limit:\n",
    "    note='B4'\n",
    "    \n",
    "else:\n",
    "    print:(f\"Entered {freq} doesn't correponds to known note\")\n",
    "        \n",
    "print(f\"The note of {freq} is {note}\")"
   ]
  },
  {
   "cell_type": "markdown",
   "metadata": {},
   "source": [
    "### Que-9"
   ]
  },
  {
   "cell_type": "code",
   "execution_count": 8,
   "metadata": {},
   "outputs": [
    {
     "name": "stdout",
     "output_type": "stream",
     "text": [
      "Enter a wavelength of light : 630\n",
      "The Color of Wavelength is Red\n"
     ]
    }
   ],
   "source": [
    "w=int(input('Enter a wavelength of light : '))\n",
    "\n",
    "if 380<=w<450:\n",
    "    color='Voilet'\n",
    "elif 450<=w<495:\n",
    "    color='Blue'\n",
    "elif 495<=w<570:\n",
    "    color='Green'\n",
    "elif 570<=w<590:\n",
    "    color='Yellow'\n",
    "elif 590<=w<620:\n",
    "    color='Orange'\n",
    "elif 620<=w<=750:\n",
    "    color='Red'\n",
    "else:\n",
    "    print('Entered Wavelength is outside of the visible spectrum' )\n",
    "\n",
    "print(f\"The Color of Wavelength is {color}\")\n",
    "    \n",
    "    \n"
   ]
  },
  {
   "cell_type": "code",
   "execution_count": null,
   "metadata": {},
   "outputs": [],
   "source": []
  }
 ],
 "metadata": {
  "kernelspec": {
   "display_name": "Python 3",
   "language": "python",
   "name": "python3"
  },
  "language_info": {
   "codemirror_mode": {
    "name": "ipython",
    "version": 3
   },
   "file_extension": ".py",
   "mimetype": "text/x-python",
   "name": "python",
   "nbconvert_exporter": "python",
   "pygments_lexer": "ipython3",
   "version": "3.8.5"
  }
 },
 "nbformat": 4,
 "nbformat_minor": 4
}
