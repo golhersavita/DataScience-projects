{
 "cells": [
  {
   "cell_type": "markdown",
   "metadata": {},
   "source": [
    "#### Print sum of all natural numbers from 1 to n"
   ]
  },
  {
   "cell_type": "markdown",
   "metadata": {},
   "source": [
    "1+2+3+4+5+6+7+8+9+10+11+12+.........=sum"
   ]
  },
  {
   "cell_type": "markdown",
   "metadata": {},
   "source": [
    "#### with formula"
   ]
  },
  {
   "cell_type": "code",
   "execution_count": 7,
   "metadata": {},
   "outputs": [
    {
     "name": "stdout",
     "output_type": "stream",
     "text": [
      "enter the number upto which you want to do sum: 166\n",
      "the sum of given numbers is : 13861\n"
     ]
    }
   ],
   "source": [
    "n=int(input(\"enter the number upto which you want to do sum: \"))\n",
    "\n",
    "sum=int(n*(n+1)/2)\n",
    "\n",
    "print(f\"the sum of given numbers is : {sum}\")"
   ]
  },
  {
   "cell_type": "markdown",
   "metadata": {},
   "source": [
    "#### using for loop"
   ]
  },
  {
   "cell_type": "code",
   "execution_count": null,
   "metadata": {},
   "outputs": [],
   "source": [
    "python for loop syntax:\n",
    "    \n",
    "for var in sequence:\n",
    "    body of loop"
   ]
  },
  {
   "cell_type": "code",
   "execution_count": null,
   "metadata": {},
   "outputs": [],
   "source": [
    "The range() function: It is used to generate a sequence of numbers using\n",
    "range() function\n",
    "\n",
    "range(start, stop,step_size)"
   ]
  },
  {
   "cell_type": "code",
   "execution_count": null,
   "metadata": {},
   "outputs": [],
   "source": [
    "i=3, sum1=0+1=1+2=3+=6"
   ]
  },
  {
   "cell_type": "code",
   "execution_count": 9,
   "metadata": {},
   "outputs": [
    {
     "name": "stdout",
     "output_type": "stream",
     "text": [
      "enter the number upto which you want to do sum: 1005\n",
      "the sum of given numbers is : 13861\n"
     ]
    }
   ],
   "source": [
    "n=int(input(\"enter the number upto which you want to do sum: \"))\n",
    "sum1=0\n",
    "for i in range(1,n+1):\n",
    "    sum1=sum1+i\n",
    "\n",
    "print(f\"the sum of given numbers is : {sum}\")"
   ]
  },
  {
   "cell_type": "code",
   "execution_count": null,
   "metadata": {},
   "outputs": [],
   "source": [
    "#que: Program to calculate and print sum of all odd numbers "
   ]
  },
  {
   "cell_type": "code",
   "execution_count": 12,
   "metadata": {},
   "outputs": [
    {
     "name": "stdout",
     "output_type": "stream",
     "text": [
      "enter the number upto which you want to do sum: 12\n",
      "the sum of given off numbers is : 36\n"
     ]
    }
   ],
   "source": [
    "n=int(input(\"enter the number upto which you want to do sum: \"))\n",
    "sum2=0\n",
    "for i in range(1,n+1, 2):\n",
    "    sum2=sum2+i\n",
    "\n",
    "print(f\"the sum of given off numbers is : {sum2}\")"
   ]
  },
  {
   "cell_type": "code",
   "execution_count": null,
   "metadata": {},
   "outputs": [],
   "source": [
    "#que: program to calculate and print sum of Even numbers"
   ]
  },
  {
   "cell_type": "code",
   "execution_count": 13,
   "metadata": {},
   "outputs": [
    {
     "name": "stdout",
     "output_type": "stream",
     "text": [
      "enter the number upto which you want to do sum: 85\n",
      "the sum of given numbers is : 1806\n"
     ]
    }
   ],
   "source": [
    "n=int(input(\"enter the number upto which you want to do sum: \"))\n",
    "sum3=0\n",
    "for i in range(2,n+1,2):\n",
    "    sum3=sum3+i\n",
    "\n",
    "print(f\"the sum of given numbers is : {sum3}\")"
   ]
  },
  {
   "cell_type": "code",
   "execution_count": null,
   "metadata": {},
   "outputs": [],
   "source": [
    "#que: Program to calculate and print the sum of all numbers stored in a list"
   ]
  },
  {
   "cell_type": "code",
   "execution_count": 15,
   "metadata": {},
   "outputs": [
    {
     "name": "stdout",
     "output_type": "stream",
     "text": [
      "the sum of numbers stored in the list is: 198\n"
     ]
    }
   ],
   "source": [
    "list_num=[12,45,78,3,6,54]\n",
    "sum4=0\n",
    "for i in list_num:\n",
    "    sum4=sum4+i\n",
    "print(f\"the sum of numbers stored in the list is: {sum4}\")"
   ]
  },
  {
   "cell_type": "code",
   "execution_count": null,
   "metadata": {},
   "outputs": [],
   "source": []
  },
  {
   "cell_type": "code",
   "execution_count": null,
   "metadata": {},
   "outputs": [],
   "source": []
  },
  {
   "cell_type": "code",
   "execution_count": null,
   "metadata": {},
   "outputs": [],
   "source": []
  },
  {
   "cell_type": "code",
   "execution_count": null,
   "metadata": {},
   "outputs": [],
   "source": []
  },
  {
   "cell_type": "code",
   "execution_count": null,
   "metadata": {},
   "outputs": [],
   "source": []
  }
 ],
 "metadata": {
  "kernelspec": {
   "display_name": "Python 3 (ipykernel)",
   "language": "python",
   "name": "python3"
  },
  "language_info": {
   "codemirror_mode": {
    "name": "ipython",
    "version": 3
   },
   "file_extension": ".py",
   "mimetype": "text/x-python",
   "name": "python",
   "nbconvert_exporter": "python",
   "pygments_lexer": "ipython3",
   "version": "3.8.5"
  }
 },
 "nbformat": 4,
 "nbformat_minor": 4
}
