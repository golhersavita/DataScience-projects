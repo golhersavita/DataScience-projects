{
 "cells": [
  {
   "cell_type": "markdown",
   "id": "d293d61f",
   "metadata": {},
   "source": [
    "### Python Program to Check for Valid Mobile Number using regex"
   ]
  },
  {
   "cell_type": "code",
   "execution_count": null,
   "id": "7b159ad5",
   "metadata": {},
   "outputs": [],
   "source": [
    ">>conditions to validate Mobile number\n",
    "\n",
    "* The mobile number must be '10' digits long.\n",
    "* The mobile number can have '11' digits if including '0' at the starting.\n",
    "* The mobile number can be of '12' digits if including '91' at the starting.\n",
    "* first digit should contain number between [6 - 9].\n",
    "* The rest 9 digit can contain any number between [0 - 9].\n"
   ]
  },
  {
   "cell_type": "code",
   "execution_count": 2,
   "id": "4139e3fc",
   "metadata": {},
   "outputs": [
    {
     "name": "stdout",
     "output_type": "stream",
     "text": [
      "Enter your mobile number: 91 5896547325\n",
      "91 5896547325 is not valid mobile number.\n"
     ]
    }
   ],
   "source": [
    "import re\n",
    "\n",
    "number=input(\"Enter your mobile number: \")\n",
    "\n",
    "pattern=re.compile(\"(0|91)?[-\\s]?[6-9][0-9]{9}\")\n",
    "\n",
    "if pattern.match(number):\n",
    "    print(f\"{number} is valid mobile number.\")\n",
    "else:\n",
    "    print(f\"{number} is not valid mobile number.\")"
   ]
  },
  {
   "cell_type": "markdown",
   "id": "838e0fbe",
   "metadata": {},
   "source": [
    "### using python Fucctions"
   ]
  },
  {
   "cell_type": "code",
   "execution_count": 3,
   "id": "19472a5b",
   "metadata": {},
   "outputs": [
    {
     "name": "stdout",
     "output_type": "stream",
     "text": [
      "Enter your mobile number: 09568745621\n",
      "09568745621 is valid mobile number.\n"
     ]
    }
   ],
   "source": [
    "import re\n",
    "\n",
    "def is_valid(mob_num):\n",
    "    pattern=re.compile(\"(0|91)?[-\\s]?[6-9][0-9]{9}\")\n",
    "    return pattern.match(mob_num)\n",
    "\n",
    "mob_num=input(\"Enter your mobile number: \")\n",
    "\n",
    "if is_valid(mob_num):\n",
    "    print(f\"{mob_num} is valid mobile number.\")\n",
    "else:\n",
    "    print(f\"{mob_num} is not valid mobile number.\")"
   ]
  },
  {
   "cell_type": "code",
   "execution_count": null,
   "id": "0aacd1b4",
   "metadata": {},
   "outputs": [],
   "source": []
  },
  {
   "cell_type": "code",
   "execution_count": null,
   "id": "73607121",
   "metadata": {},
   "outputs": [],
   "source": []
  },
  {
   "cell_type": "code",
   "execution_count": null,
   "id": "63ba14aa",
   "metadata": {},
   "outputs": [],
   "source": []
  },
  {
   "cell_type": "code",
   "execution_count": null,
   "id": "962b1633",
   "metadata": {},
   "outputs": [],
   "source": []
  },
  {
   "cell_type": "code",
   "execution_count": null,
   "id": "003dce71",
   "metadata": {},
   "outputs": [],
   "source": []
  },
  {
   "cell_type": "code",
   "execution_count": null,
   "id": "5fa8898e",
   "metadata": {},
   "outputs": [],
   "source": []
  }
 ],
 "metadata": {
  "kernelspec": {
   "display_name": "Python 3 (ipykernel)",
   "language": "python",
   "name": "python3"
  },
  "language_info": {
   "codemirror_mode": {
    "name": "ipython",
    "version": 3
   },
   "file_extension": ".py",
   "mimetype": "text/x-python",
   "name": "python",
   "nbconvert_exporter": "python",
   "pygments_lexer": "ipython3",
   "version": "3.8.5"
  }
 },
 "nbformat": 4,
 "nbformat_minor": 5
}
