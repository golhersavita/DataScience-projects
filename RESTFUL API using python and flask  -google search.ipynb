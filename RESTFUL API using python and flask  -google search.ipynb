{
 "cells": [
  {
   "cell_type": "code",
   "execution_count": 1,
   "id": "3ecc679b",
   "metadata": {
    "collapsed": true
   },
   "outputs": [
    {
     "name": "stdout",
     "output_type": "stream",
     "text": [
      "Requirement already satisfied: flask_restful in c:\\users\\sonuv\\anaconda3\\lib\\site-packages (0.3.9)\n",
      "Requirement already satisfied: Flask>=0.8 in c:\\users\\sonuv\\anaconda3\\lib\\site-packages (from flask_restful) (2.0.2)\n",
      "Requirement already satisfied: aniso8601>=0.82 in c:\\users\\sonuv\\anaconda3\\lib\\site-packages (from flask_restful) (9.0.1)\n",
      "Requirement already satisfied: pytz in c:\\users\\sonuv\\anaconda3\\lib\\site-packages (from flask_restful) (2021.3)\n",
      "Requirement already satisfied: six>=1.3.0 in c:\\users\\sonuv\\anaconda3\\lib\\site-packages (from flask_restful) (1.16.0)\n",
      "Requirement already satisfied: click>=7.1.2 in c:\\users\\sonuv\\anaconda3\\lib\\site-packages (from Flask>=0.8->flask_restful) (8.0.1)\n",
      "Requirement already satisfied: Werkzeug>=2.0 in c:\\users\\sonuv\\anaconda3\\lib\\site-packages (from Flask>=0.8->flask_restful) (2.0.1)\n",
      "Requirement already satisfied: Jinja2>=3.0 in c:\\users\\sonuv\\anaconda3\\lib\\site-packages (from Flask>=0.8->flask_restful) (3.0.1)\n",
      "Requirement already satisfied: itsdangerous>=2.0 in c:\\users\\sonuv\\anaconda3\\lib\\site-packages (from Flask>=0.8->flask_restful) (2.0.1)\n",
      "Requirement already satisfied: colorama in c:\\users\\sonuv\\anaconda3\\lib\\site-packages (from click>=7.1.2->Flask>=0.8->flask_restful) (0.4.4)\n",
      "Requirement already satisfied: MarkupSafe>=2.0 in c:\\users\\sonuv\\anaconda3\\lib\\site-packages (from Jinja2>=3.0->Flask>=0.8->flask_restful) (2.0.1)\n",
      "Note: you may need to restart the kernel to use updated packages.\n"
     ]
    }
   ],
   "source": [
    "pip install flask_restful"
   ]
  },
  {
   "cell_type": "code",
   "execution_count": 4,
   "id": "8e76f7fd",
   "metadata": {
    "collapsed": true
   },
   "outputs": [
    {
     "name": "stdout",
     "output_type": "stream",
     "text": [
      "Requirement already satisfied: flask_httpauth in c:\\users\\sonuv\\anaconda3\\lib\\site-packages (4.4.0)\n",
      "Requirement already satisfied: Flask in c:\\users\\sonuv\\anaconda3\\lib\\site-packages (from flask_httpauth) (2.0.2)\n",
      "Requirement already satisfied: itsdangerous>=2.0 in c:\\users\\sonuv\\anaconda3\\lib\\site-packages (from Flask->flask_httpauth) (2.0.1)\n",
      "Requirement already satisfied: Werkzeug>=2.0 in c:\\users\\sonuv\\anaconda3\\lib\\site-packages (from Flask->flask_httpauth) (2.0.1)\n",
      "Requirement already satisfied: Jinja2>=3.0 in c:\\users\\sonuv\\anaconda3\\lib\\site-packages (from Flask->flask_httpauth) (3.0.1)\n",
      "Requirement already satisfied: click>=7.1.2 in c:\\users\\sonuv\\anaconda3\\lib\\site-packages (from Flask->flask_httpauth) (8.0.1)\n",
      "Requirement already satisfied: colorama in c:\\users\\sonuv\\anaconda3\\lib\\site-packages (from click>=7.1.2->Flask->flask_httpauth) (0.4.4)\n",
      "Requirement already satisfied: MarkupSafe>=2.0 in c:\\users\\sonuv\\anaconda3\\lib\\site-packages (from Jinja2>=3.0->Flask->flask_httpauth) (2.0.1)\n",
      "Note: you may need to restart the kernel to use updated packages.\n"
     ]
    }
   ],
   "source": [
    "pip install flask_httpauth"
   ]
  },
  {
   "cell_type": "code",
   "execution_count": 3,
   "id": "f65da83d",
   "metadata": {},
   "outputs": [],
   "source": [
    "from flask import Flask,request\n",
    "from flask_restful import Resource, Api,reqparse\n",
    "from flask_httpauth import HTTPBasicAuth\n",
    "import pandas as pd\n",
    "import ast\n",
    "\n",
    "app=Flask(__name__)\n",
    "api=Api(app)\n",
    "auth=HTTPBasicAuth()\n",
    "\n",
    "USER_DATA={\"DocBoyz\":\"saregamapadhanisa\"}    #authorization username and password\n",
    "\n",
    "@auth.verify_password\n",
    "def verify(username,password):\n",
    "    if not(username and password):\n",
    "        return False\n",
    "    return USER_DATA.get(username)==password \n",
    "\n",
    "class Google_search_Data(Resource):\n",
    "    @auth.login_required\n",
    "\n",
    "    def get(self):\n",
    "        df1 = pd.read_csv('C://Users//sonuv//Desktop//DocBoyz//restaurant.csv')  # read CSV \n",
    "        data = df1.to_dict() # convert dataframe to dictionary \n",
    "        return {'data': data}, 200  #return data , status:200\n",
    "    \n",
    "    def post(self): \n",
    "        parser = reqparse.RequestParser() #initialize \n",
    "        parser.add_argument('Name', required=True) #add args \n",
    "        parser.add_argument('Address', required=True) \n",
    "        parser.add_argument('Contact', required=True)\n",
    "        args = parser.parse_args() #parse arguments to dictionary \n",
    "\n",
    "        #create new dataframe containing new values \n",
    "        new_data = pd.DataFrame({ 'Name': args['Name'], 'Address': args['Address'], 'Contact': args['Contact']},index=[0])\n",
    "        data = pd.read_csv('C://Users//sonuv//Desktop//DocBoyz//restaurant.csv')\n",
    "        # add the newly provided values \n",
    "        data = data.append(new_data, ignore_index=True)\n",
    "        data.to_csv('C://Users//sonuv//Desktop//DocBoyz//restaurant.csv', index=False) #save back to CSV \n",
    "        return {'data': data.to_dict()}, 200  #return data with 200 OK\n",
    "    \n",
    "    def put(self):\n",
    "        parser = reqparse.RequestParser()  # initialize parser\n",
    "        parser.add_argument('Name', required=True)  # add args\n",
    "        parser.add_argument('Address', required=True)  # address/contact are optional\n",
    "        parser.add_argument('Contact', required=True)\n",
    "        args = parser.parse_args()  # parse arguments to dictionary\n",
    "        data = pd.read_csv('C://Users//sonuv//Desktop//DocBoyz//restaurant.csv')   # read our CSV\n",
    "        \n",
    "        if args['Name'] in list(data['Name']):         # check that the location exists\n",
    "            user_data = data[data['Name'] == args['Name']]   # if it exists, we can update it, first we get user row\n",
    "            \n",
    "            if 'Address' in args:\n",
    "                user_data['Address'] = args['Address']    # if address has been provided, we update address\n",
    "            if 'Contact' in args:\n",
    "                user_data['Contact'] = args['Contact']    # if contact has been provided, we update contact\n",
    "            \n",
    "            data[data['Name'] == args['Name']] = user_data   # update data\n",
    "            data.to_csv('C://Users//sonuv//Desktop//DocBoyz//restaurant.csv', index=False)    # now save updated data\n",
    "            return {'data': data.to_dict()}, 200    # return data and 200 OK\n",
    "        else:\n",
    "            return { 'message': f\"'{args['Name']}' Name does not exist.\"}, 404    # otherwise we return 404 not found\n",
    "        \n",
    "    def delete(self):\n",
    "        parser = reqparse.RequestParser()  # initialize\n",
    "        parser.add_argument('Name', required=True)  # add  arg\n",
    "        args = parser.parse_args() # parse arguments to dictionary\n",
    "        data = pd.read_csv('C://Users//sonuv//Desktop//DocBoyz//restaurant.csv') # read our CSV\n",
    "        \n",
    "        if args['Name'] in list(data['Name']):\n",
    "            \n",
    "            data = data[data['Name'] != args['Name']] # remove data entry matching given name\n",
    "            data.to_csv('C://Users//sonuv//Desktop//DocBoyz//restaurant.csv', index=False) # save back to CSV\n",
    "            return {'data': data.to_dict()}, 200  # return data and 200 OK\n",
    "        else:\n",
    "            return {'message': f\"'{args['Name']}' user not found.\"}, 404\n",
    "        \n",
    "        \n",
    "    def patch(self):\n",
    "        parser = reqparse.RequestParser()  # initialize parser\n",
    "        parser.add_argument('Name', store_missing=False)  # add args\n",
    "        parser.add_argument('Address', store_missing=False)  # address/contact are optional\n",
    "        parser.add_argument('Contact', store_missing=False)\n",
    "        args = parser.parse_args()  # parse arguments to dictionary\n",
    "        data = pd.read_csv('C://Users//sonuv//Desktop//DocBoyz//restaurant.csv')   # read our CSV\n",
    "        \n",
    "        if args['Name'] in list(data['Name']):         # check that the location exists\n",
    "            user_data = data[data['Name'] == args['Name']]   # if it exists, we can update it, first we get user row\n",
    "            \n",
    "            if 'Address' in args:\n",
    "                user_data['Address'] = args['Address']    # if address has been provided, we update address\n",
    "           \n",
    "            if 'Contact' in args:\n",
    "                user_data['Contact'] = args['Contact']    # if contact has been provided, we update contact\n",
    "            \n",
    "            data[data['Name'] == args['Name']] = user_data   # update data\n",
    "            data.to_csv('C://Users//sonuv//Desktop//DocBoyz//restaurant.csv', index=False)    # now save updated data\n",
    "            return {'data': data.to_dict()}, 200    # return data and 200 OK\n",
    "        \n",
    "        else:\n",
    "            return { 'message': f\"'{args['Name']}' Name does not exist.\"}, 404    # otherwise we return 404 not found\n",
    "                \n",
    "api.add_resource(Google_search_Data,'/Google_search_Data')\n",
    "\n"
   ]
  },
  {
   "cell_type": "code",
   "execution_count": null,
   "id": "ccb33f81",
   "metadata": {},
   "outputs": [
    {
     "name": "stdout",
     "output_type": "stream",
     "text": [
      " * Serving Flask app '__main__' (lazy loading)\n",
      " * Environment: production\n",
      "\u001b[31m   WARNING: This is a development server. Do not use it in a production deployment.\u001b[0m\n",
      "\u001b[2m   Use a production WSGI server instead.\u001b[0m\n",
      " * Debug mode: off\n"
     ]
    },
    {
     "name": "stderr",
     "output_type": "stream",
     "text": [
      " * Running on http://127.0.0.1:5000/ (Press CTRL+C to quit)\n"
     ]
    }
   ],
   "source": [
    "if __name__=='__main__':\n",
    "    app.run()"
   ]
  },
  {
   "cell_type": "code",
   "execution_count": null,
   "id": "db7881ff",
   "metadata": {},
   "outputs": [],
   "source": []
  },
  {
   "cell_type": "code",
   "execution_count": null,
   "id": "438b3c9f",
   "metadata": {},
   "outputs": [],
   "source": []
  }
 ],
 "metadata": {
  "kernelspec": {
   "display_name": "Python 3 (ipykernel)",
   "language": "python",
   "name": "python3"
  },
  "language_info": {
   "codemirror_mode": {
    "name": "ipython",
    "version": 3
   },
   "file_extension": ".py",
   "mimetype": "text/x-python",
   "name": "python",
   "nbconvert_exporter": "python",
   "pygments_lexer": "ipython3",
   "version": "3.8.5"
  }
 },
 "nbformat": 4,
 "nbformat_minor": 5
}
