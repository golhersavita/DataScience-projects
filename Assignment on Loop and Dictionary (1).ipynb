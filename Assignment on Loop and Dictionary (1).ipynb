{
 "cells": [
  {
   "cell_type": "markdown",
   "metadata": {},
   "source": [
    "### Que-1"
   ]
  },
  {
   "cell_type": "code",
   "execution_count": 9,
   "metadata": {},
   "outputs": [
    {
     "name": "stdout",
     "output_type": "stream",
     "text": [
      "Enter a value, Enter 0 to exit : 52\n",
      "Enter a value, Enter 0 to exit : 96\n",
      "Enter a value, Enter 0 to exit : 45\n",
      "Enter a value, Enter 0 to exit : 83\n",
      "Enter a value, Enter 0 to exit : 12\n",
      "Enter a value, Enter 0 to exit : 5\n",
      "Enter a value, Enter 0 to exit : 0\n",
      "End of input\n",
      "Average  of the above numbers is: 48.833333333333336\n"
     ]
    }
   ],
   "source": [
    "count = 0\n",
    "sum = 0\n",
    "number=1\n",
    "\n",
    "while number != 0:\n",
    "    number = int(input(\"Enter a value, Enter 0 to exit : \"))\n",
    "    if number== 0:\n",
    "        print('End of input')\n",
    "    sum = sum + number\n",
    "    count += 1\n",
    "\n",
    "if count == 1:\n",
    "    print(\"Input some numbers\")\n",
    "else:\n",
    "    avg=sum/(count-1)\n",
    "    print(f\"Average  of the above numbers is: {avg}\")\n"
   ]
  },
  {
   "cell_type": "markdown",
   "metadata": {},
   "source": [
    "### Que-2"
   ]
  },
  {
   "cell_type": "code",
   "execution_count": 10,
   "metadata": {},
   "outputs": [
    {
     "name": "stdout",
     "output_type": "stream",
     "text": [
      "Input a string : suman\n",
      "A String suman is not a palindrome\n"
     ]
    }
   ],
   "source": [
    "S=input('Input a string : ')\n",
    "S1=S.lower()\n",
    "if S1[::] == S1[::-1] :\n",
    "    print(f\"A String {S} is a palindrome\")\n",
    "    \n",
    "else: \n",
    "    print(f\"A String {S} is not a palindrome\")"
   ]
  },
  {
   "cell_type": "markdown",
   "metadata": {},
   "source": [
    "### Que-3"
   ]
  },
  {
   "cell_type": "code",
   "execution_count": 11,
   "metadata": {},
   "outputs": [
    {
     "name": "stdout",
     "output_type": "stream",
     "text": [
      "Enter any binary number : 110111\n",
      "The Decimal value is : 55\n"
     ]
    }
   ],
   "source": [
    "binary_num=list(input('Enter any binary number : '))\n",
    "decimal=0\n",
    "\n",
    "for i in range(len(binary_num)) :\n",
    "    digit=binary_num.pop()\n",
    "    if digit=='1':\n",
    "        decimal=decimal+pow(2,i)\n",
    "    \n",
    "    \n",
    "print(f\"The Decimal value is : {decimal}\")"
   ]
  },
  {
   "cell_type": "code",
   "execution_count": null,
   "metadata": {},
   "outputs": [],
   "source": [
    "##Dictonary problem"
   ]
  },
  {
   "cell_type": "markdown",
   "metadata": {},
   "source": [
    "### Que-1"
   ]
  },
  {
   "cell_type": "code",
   "execution_count": 4,
   "metadata": {},
   "outputs": [
    {
     "name": "stdout",
     "output_type": "stream",
     "text": [
      "enter a string to count unique character: Hello Soham!!\n",
      "the string contained 9 unique characters\n"
     ]
    }
   ],
   "source": [
    "string=input('enter a string to count unique character: ')\n",
    "character={}\n",
    "for i in string:\n",
    "    character[i]=1\n",
    "    \n",
    "print('the string contained', len(characters), 'unique characters')"
   ]
  },
  {
   "cell_type": "markdown",
   "metadata": {},
   "source": [
    "### Que-2"
   ]
  },
  {
   "cell_type": "code",
   "execution_count": 8,
   "metadata": {},
   "outputs": [
    {
     "name": "stdout",
     "output_type": "stream",
     "text": [
      "Longest word:  Assignment\n",
      "Length of the longest word:  10\n"
     ]
    }
   ],
   "source": [
    "def longest_word(words_list):\n",
    "    word_len = []\n",
    "    for i in words_list:\n",
    "        word_len.append((len(i), i))\n",
    "    word_len.sort(reverse=True)\n",
    "    return word_len[0][0], word_len[0][1]\n",
    "\n",
    "result = longest_word([\"Exercises\",\"Assignment\", \"hamsafar\", 'python', 'nayan'])\n",
    "print(\"Longest word: \",result[1])\n",
    "print(\"Length of the longest word: \",result[0])"
   ]
  },
  {
   "cell_type": "code",
   "execution_count": null,
   "metadata": {},
   "outputs": [],
   "source": []
  }
 ],
 "metadata": {
  "kernelspec": {
   "display_name": "Python 3",
   "language": "python",
   "name": "python3"
  },
  "language_info": {
   "codemirror_mode": {
    "name": "ipython",
    "version": 3
   },
   "file_extension": ".py",
   "mimetype": "text/x-python",
   "name": "python",
   "nbconvert_exporter": "python",
   "pygments_lexer": "ipython3",
   "version": "3.8.5"
  }
 },
 "nbformat": 4,
 "nbformat_minor": 4
}
